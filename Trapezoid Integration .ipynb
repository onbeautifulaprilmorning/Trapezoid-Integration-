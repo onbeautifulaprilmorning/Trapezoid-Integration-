{
 "cells": [
  {
   "cell_type": "code",
   "execution_count": 2,
   "metadata": {},
   "outputs": [
    {
     "name": "stdout",
     "output_type": "stream",
     "text": [
      "0.0249988602401248\n"
     ]
    }
   ],
   "source": [
    "import numpy as np\n",
    "def f(x):\n",
    "  return np.exp(-0.5 * x**2) / np.sqrt(2 * 3.14159)    # 표준정규분포\n",
    "\n",
    "x = np.arange(1.96, 10, 0.01)  # 사이 값이 0.01 인 1.96 에서 10 까지의 수\n",
    "\n",
    "area = 0   # 사다리꼴의 면적\n",
    "\n",
    "for val in x:\n",
    "  area+=0.01*(f(val)+f(val+0.01))/2\n",
    "\n",
    "print(area)"
   ]
  },
  {
   "cell_type": "code",
   "execution_count": null,
   "metadata": {},
   "outputs": [],
   "source": []
  }
 ],
 "metadata": {
  "kernelspec": {
   "display_name": "Python 3",
   "language": "python",
   "name": "python3"
  },
  "language_info": {
   "codemirror_mode": {
    "name": "ipython",
    "version": 3
   },
   "file_extension": ".py",
   "mimetype": "text/x-python",
   "name": "python",
   "nbconvert_exporter": "python",
   "pygments_lexer": "ipython3",
   "version": "3.6.5"
  }
 },
 "nbformat": 4,
 "nbformat_minor": 2
}
